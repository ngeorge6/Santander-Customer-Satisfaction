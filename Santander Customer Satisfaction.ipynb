{
 "cells": [
  {
   "cell_type": "code",
   "execution_count": null,
   "metadata": {},
   "outputs": [],
   "source": [
    "import pandas as pd\n",
    "import numpy as np\n",
    "from sklearn.tree import DecisionTreeClassifier\n",
    "from sklearn.metrics import confusion_matrix,classification_report"
   ]
  },
  {
   "cell_type": "code",
   "execution_count": null,
   "metadata": {},
   "outputs": [],
   "source": [
    "#Read training data file\n",
    "trainfile = r'/gdrive/My Drive/CIS 508/HW1/Santander Customer Satisfaction - TRAIN.csv'\n",
    "trainData = pd.read_csv(trainfile)\n",
    "\n",
    "#Read test data file\n",
    "testfile = r'/gdrive/My Drive/CIS 508/HW1/Santander Customer Satisfaction - TEST-Without TARGET.csv'\n",
    "testData = pd.read_csv(trainfile)\n",
    "\n",
    "trainData.head()\n",
    "#print(\"=======\")\n",
    "testData.head()"
   ]
  },
  {
   "cell_type": "code",
   "execution_count": null,
   "metadata": {},
   "outputs": [],
   "source": [
    "#Copy Train data excluding target\n",
    "trainData_Copy = trainData.iloc[:, :-1].copy()\n",
    "testData_Copy = testData.iloc[:, :-1].copy()\n",
    "\n",
    "trainData_Copy.head()"
   ]
  },
  {
   "cell_type": "code",
   "execution_count": null,
   "metadata": {},
   "outputs": [],
   "source": [
    "#List of Categorical Features\n",
    "#categoricalFeatures = [\"Wife's Education\", \"Husband's Education\", 'No of Children ever born', \"Wife's religion\", \"Wife's now working?\", \"Husband's occupation\", 'Standard-of-living index', 'Media exposure']\n",
    "\n",
    "#Combine Train and test for one Hot Encoding\n",
    "combined_Data = pd.concat([trainData_Copy, testData_Copy], keys=[0,1])\n",
    "\n",
    "\n",
    "#Do one Hot encoding for categorical features\n",
    "#combined_Data = pd.get_dummies(combined_Data,columns=categoricalFeatures)\n",
    "\n",
    "#Separate Train data and test data\n",
    "X_Train = combined_Data.xs(0)\n",
    "X_Test = combined_Data.xs(1)\n",
    "\n",
    "X_Test.head()"
   ]
  },
  {
   "cell_type": "code",
   "execution_count": null,
   "metadata": {},
   "outputs": [],
   "source": [
    "#Select just Target Column\n",
    "Y_Train = trainData.iloc[:, -1]\n",
    "Y_Test = testData.iloc[:, -1]\n",
    "\n",
    "#Create Decision Tree Classifier\n",
    "#chosing the best random split at each node\n",
    "clf=DecisionTreeClassifier( splitter=\"random\")\n",
    "\n",
    "#Apply Classifier on Train and Target\n",
    "clf.fit(X_Train,Y_Train)\n",
    "\n",
    "#Get Class Prediction as a data frame with header as Prediction\n",
    "pred=pd.DataFrame(clf.predict(X_Train),columns=[\"Prediction\"])\n",
    "\n",
    "pred.head()"
   ]
  },
  {
   "cell_type": "code",
   "execution_count": null,
   "metadata": {},
   "outputs": [],
   "source": [
    "#Get Class Prediction probabilities as a data frame \n",
    "#Get Prediction Probability for the predicted class as a dataframe\n",
    "pred_Probability =pd.DataFrame(clf.predict_proba(X_Train))\n",
    "\n",
    "pred_Probability.head()"
   ]
  },
  {
   "cell_type": "code",
   "execution_count": null,
   "metadata": {},
   "outputs": [],
   "source": [
    "#Write into a file with actual prediction and corresponding probability\n",
    "pd.concat([pred,pred_Probability],axis=1).to_csv(\"/gdrive/My Drive/CIS 508/HW1/1.Train_results.csv\", index = None)\n",
    "\n",
    "res=pd.read_csv('/gdrive/My Drive/CIS 508/HW1/1.Train_results.csv')\n",
    "res.head()"
   ]
  },
  {
   "cell_type": "code",
   "execution_count": null,
   "metadata": {},
   "outputs": [],
   "source": [
    "#Print Classification Report\n",
    "print(classification_report(Y_Train,pred))"
   ]
  },
  {
   "cell_type": "code",
   "execution_count": null,
   "metadata": {},
   "outputs": [],
   "source": [
    "#Testset prediction======================================================================\n",
    "#Apply Classifier on Test and Target\n",
    "clf.fit(X_Test,Y_Test)\n",
    "\n",
    "#Get Class Prediction as a data frame with header as Prediction\n",
    "pred=pd.DataFrame(clf.predict(X_Test),columns=[\"Prediction\"])\n",
    "\n",
    "pred.head()"
   ]
  },
  {
   "cell_type": "code",
   "execution_count": null,
   "metadata": {},
   "outputs": [],
   "source": [
    "#Get Class Prediction probabilities as a data frame \n",
    "#Get Prediction Probability for the predicted class as a dataframe\n",
    "pred_Probability =pd.DataFrame(clf.predict_proba(X_Test))\n",
    "\n",
    "pred_Probability.head()"
   ]
  },
  {
   "cell_type": "code",
   "execution_count": null,
   "metadata": {},
   "outputs": [],
   "source": [
    "#Write into a file with actual prediction and corresponding probability\n",
    "pd.concat([pred,pred_Probability],axis=1).to_csv(\"/gdrive/My Drive/CIS 508/HW1/1.Test_results.csv\", index = None)\n",
    "\n",
    "res=pd.read_csv('/gdrive/My Drive/CIS 508/HW1/1.Test_results.csv')\n",
    "res.head()"
   ]
  },
  {
   "cell_type": "code",
   "execution_count": null,
   "metadata": {},
   "outputs": [],
   "source": [
    "#Print Classification Report\n",
    "print(classification_report(Y_Test,pred))"
   ]
  }
 ],
 "metadata": {
  "kernelspec": {
   "display_name": "Python 3",
   "language": "python",
   "name": "python3"
  },
  "language_info": {
   "codemirror_mode": {
    "name": "ipython",
    "version": 3
   },
   "file_extension": ".py",
   "mimetype": "text/x-python",
   "name": "python",
   "nbconvert_exporter": "python",
   "pygments_lexer": "ipython3",
   "version": "3.7.4"
  }
 },
 "nbformat": 4,
 "nbformat_minor": 2
}
